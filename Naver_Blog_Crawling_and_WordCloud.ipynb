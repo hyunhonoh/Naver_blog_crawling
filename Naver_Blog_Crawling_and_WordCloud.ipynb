{
 "cells": [
  {
   "cell_type": "markdown",
   "metadata": {},
   "source": [
    "# Naver Blog 수집 및 시각화.\n",
    "- 20180620 ver. 도메인 주소 파싱 수정"
   ]
  },
  {
   "cell_type": "code",
   "execution_count": null,
   "metadata": {
    "collapsed": true
   },
   "outputs": [],
   "source": [
    "from selenium import webdriver\n",
    "from selenium.common.exceptions import NoSuchElementException"
   ]
  },
  {
   "cell_type": "code",
   "execution_count": null,
   "metadata": {
    "collapsed": true
   },
   "outputs": [],
   "source": [
    "from urllib.parse import quote_plus\n",
    "from urllib.parse import urlparse\n",
    "from sklearn.feature_extraction.text import CountVectorizer\n",
    "from sys import platform\n",
    "\n",
    "import json\n",
    "import time\n",
    "import os\n",
    "import lxml.html\n",
    "import numpy\n",
    "import operator\n",
    "import re\n",
    "import requests\n",
    "\n",
    "\n",
    "from konlpy.tag import Komoran\n",
    "tagger = Komoran()"
   ]
  },
  {
   "cell_type": "code",
   "execution_count": null,
   "metadata": {
    "collapsed": true
   },
   "outputs": [],
   "source": [
    "# browser execute\n",
    "if platform == \"linux\" or platform == \"linux2\":\n",
    "    browser=webdriver.Chrome(executable_path='./chromedriver')\n",
    "elif platform == \"darwin\":\n",
    "    browser=webdriver.Chrome(executable_path='./chromedriver')\n",
    "elif platform == \"win32\":\n",
    "    browser=webdriver.Chrome(executable_path='./chromedriver.exe')\n"
   ]
  },
  {
   "cell_type": "code",
   "execution_count": null,
   "metadata": {},
   "outputs": [],
   "source": [
    "search_url = ('https://section.blog.naver.com/Search/Post.nhn?pageNo={page}&rangeType=ALL&orderBy=sim&keyword={query}')\n",
    "query = quote_plus('혼술')\n",
    "\n",
    "post_links = []\n",
    "\n",
    "# range(1, 3) 에서 3를 원하는 페이지 만큼 수정\n",
    "for page in range(1, 3):\n",
    "    url = search_url.format(query=query, page=page)\n",
    "    browser.get(url)\n",
    "    browser.implicitly_wait(2)\n",
    "    time.sleep(2)\n",
    "    # 모든 블로그 주소가 들어가 있는 부분 검색\n",
    "    posts_lists = browser.find_elements_by_css_selector('a.desc_inner')\n",
    "\n",
    "\n",
    "    for post_list in posts_lists:\n",
    "        print(post_list.get_attribute('href')) # 주소 보기(2가지 유형)\n",
    "        post_links.append(post_list.get_attribute('href'))\n"
   ]
  },
  {
   "cell_type": "markdown",
   "metadata": {},
   "source": [
    "## url 목록에서 검색용 blogId와 logNo 구하기"
   ]
  },
  {
   "cell_type": "code",
   "execution_count": null,
   "metadata": {},
   "outputs": [],
   "source": [
    "post_urls = []\n",
    "p = re.compile(\"https://\\w+\\.blog\\.me/\\d+\")              # blog.me 도메인 추출\n",
    "\n",
    "for post_link in post_links:\n",
    "    m = p.search(post_link)\n",
    "    if m:                                                # https://id.blog.me/logNo\n",
    "        website = urlparse(post_link)\n",
    "        blog_id = website[1].split('.')[-3]\n",
    "        post_id = website.path[1:]\n",
    "    elif post_link.startswith('https://blog.naver.com'): # https://blog.naver.com로 시작하는 주소\n",
    "        website = urlparse(post_link)\n",
    "        _, blog_id, post_id = website.path.split('/')\n",
    "    else:                                                # 자기 도메인\n",
    "        res = requests.get(post_link)\n",
    "        root = lxml.html.fromstring(res.text)\n",
    "        blog_url = root.cssselect('frame#screenFrame').pop().attrib['src']\n",
    "        website = urlparse(blog_url)\n",
    "        _, blog_id, post_id = website.path.split('/')\n",
    "\n",
    "\n",
    "    # 위 주소로 불러오면 파싱이 안되며 아래주소로 변경하고 불러야 파싱이 된다.\n",
    "    post_url = 'http://blog.naver.com/PostView.nhn?blogId={}&logNo={}'.format(blog_id, post_id)\n",
    "    post_urls.append(post_url)\n",
    "#     print(post_link, blog_id, post_id, post_url)\n",
    "post_urls"
   ]
  },
  {
   "cell_type": "code",
   "execution_count": null,
   "metadata": {},
   "outputs": [],
   "source": [
    "posts = []\n",
    "\n",
    "for post_url in post_urls:\n",
    "    try:\n",
    "        print(post_url)\n",
    "        browser.get(post_url)\n",
    "        time.sleep(1)\n",
    "    #     browser.implicitly_wait(4)\n",
    "        post_result = browser.find_element_by_css_selector('div.se_component_wrap.sect_dsc.__se_component_area')\n",
    "        posts.append(post_result.text)\n",
    "    except NoSuchElementException: # smart editor 3.0이전 작성 자료\n",
    "        if not browser.find_elements_by_css_selector('div#error_content'): # \"페이지를 찾을 수 없습니다.\" 페이지가 아니면 예전 방식으로 파싱\n",
    "            post_result = browser.find_element_by_css_selector('div.post-view')\n",
    "            posts.append(post_result.text)\n",
    "    except:\n",
    "        continue\n",
    "\n",
    "browser.close()"
   ]
  },
  {
   "cell_type": "code",
   "execution_count": null,
   "metadata": {
    "collapsed": true
   },
   "outputs": [],
   "source": [
    "def get_noun(text):\n",
    "    nouns = tagger.nouns(text)\n",
    "    return [n for n in nouns if len(n) > 1]\n",
    "\n",
    "cv = CountVectorizer(tokenizer=get_noun, max_features = 100)\n",
    "\n",
    "tdm = cv.fit_transform(posts)"
   ]
  },
  {
   "cell_type": "code",
   "execution_count": null,
   "metadata": {},
   "outputs": [],
   "source": [
    "posts"
   ]
  },
  {
   "cell_type": "code",
   "execution_count": null,
   "metadata": {
    "collapsed": true
   },
   "outputs": [],
   "source": [
    "words = cv.get_feature_names()\n",
    "\n",
    "count_mat= tdm.sum(axis=0)\n",
    "count = numpy.squeeze(numpy.asarray(count_mat))\n",
    "word_count = list(zip(words, count))\n",
    "word_count = sorted(word_count, key = operator.itemgetter(1), reverse=True)"
   ]
  },
  {
   "cell_type": "code",
   "execution_count": null,
   "metadata": {},
   "outputs": [],
   "source": [
    "word_count "
   ]
  },
  {
   "cell_type": "code",
   "execution_count": null,
   "metadata": {
    "collapsed": true
   },
   "outputs": [],
   "source": [
    "%matplotlib inline"
   ]
  },
  {
   "cell_type": "code",
   "execution_count": null,
   "metadata": {
    "collapsed": true
   },
   "outputs": [],
   "source": [
    "from matplotlib import pyplot\n",
    "from wordcloud import WordCloud\n",
    "\n",
    "# font_paths는 윈도우의 경우 C:\\\\Windows\\\\Fonts\\\\malgun.ttf 로 변경\n",
    "wc = WordCloud(font_path='/Library/Fonts/AppleGothic.ttf', background_color='white', width=400, height=300)\n",
    "cloud = wc.generate_from_frequencies(dict(word_count))"
   ]
  },
  {
   "cell_type": "code",
   "execution_count": null,
   "metadata": {},
   "outputs": [],
   "source": [
    "pyplot.figure(figsize=(12, 9))\n",
    "pyplot.imshow(cloud)\n",
    "pyplot.axis(\"off\")\n",
    "pyplot.show()"
   ]
  }
 ],
 "metadata": {
  "kernelspec": {
   "display_name": "Python 3",
   "language": "python",
   "name": "python3"
  },
  "language_info": {
   "codemirror_mode": {
    "name": "ipython",
    "version": 3
   },
   "file_extension": ".py",
   "mimetype": "text/x-python",
   "name": "python",
   "nbconvert_exporter": "python",
   "pygments_lexer": "ipython3",
   "version": "3.6.3"
  }
 },
 "nbformat": 4,
 "nbformat_minor": 2
}
